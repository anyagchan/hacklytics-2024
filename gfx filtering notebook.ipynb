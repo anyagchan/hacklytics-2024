{
 "cells": [
  {
   "cell_type": "code",
   "execution_count": null,
   "id": "2e903ff8",
   "metadata": {},
   "outputs": [],
   "source": [
    "import pandas as pd\n",
    "\n",
    "df = pd.read_csv('path/to/csv/file.csv')\n",
    "\n",
    "# Once you have loaded the CSV file into a dataframe, you can select the specific columns you want to keep. To do this, you need to use the square bracket notation [ ] with a list of column names as the argument.\n",
    "\n",
    "df = df[['column_name_1', 'column_name_2', 'column_name_3']]\n",
    "\n",
    "# Save the Filtered Data to a New CSV File\n",
    "\n",
    "df.to_csv('path/to/new/csv/file.csv', index=False)\n",
    "\n",
    "# The index=False argument tells Pandas not to include the index column in the new CSV file."
   ]
  }
 ],
 "metadata": {
  "kernelspec": {
   "display_name": "Python 3 (ipykernel)",
   "language": "python",
   "name": "python3"
  },
  "language_info": {
   "codemirror_mode": {
    "name": "ipython",
    "version": 3
   },
   "file_extension": ".py",
   "mimetype": "text/x-python",
   "name": "python",
   "nbconvert_exporter": "python",
   "pygments_lexer": "ipython3",
   "version": "3.11.5"
  }
 },
 "nbformat": 4,
 "nbformat_minor": 5
}
