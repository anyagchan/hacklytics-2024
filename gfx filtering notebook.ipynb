{
 "cells": [
  {
   "cell_type": "code",
   "execution_count": 56,
   "id": "2e903ff8",
   "metadata": {},
   "outputs": [],
   "source": [
    "import pandas as pd\n",
    "\n",
    "#Read into dataframe\n",
    "df = pd.read_csv('/path/to/file.csv')\n",
    "\n",
    "#Select the specific columns to keep: Year, Borough/UHF42, and data\n",
    "df = df[['TimePeriod', 'GeoType', 'Geography', 'Percent']]\n",
    "\n",
    "#Select the rows to keep\n",
    "df2 = df[(df['GeoType'] == 'Borough') & ((df['TimePeriod'] == 2017) | (df['TimePeriod'] == 2014))]\n",
    "\n",
    "# Save the filtered aata to a new CSV File\n",
    "df2.to_csv('/path/to/new/file.csv', index=False)\n",
    "# The index=False argument tells Pandas not to include the index column in the new CSV file."
   ]
  }
 ],
 "metadata": {
  "kernelspec": {
   "display_name": "Python 3.11.5 64-bit",
   "language": "python",
   "name": "python3"
  },
  "language_info": {
   "codemirror_mode": {
    "name": "ipython",
    "version": 3
   },
   "file_extension": ".py",
   "mimetype": "text/x-python",
   "name": "python",
   "nbconvert_exporter": "python",
   "pygments_lexer": "ipython3",
   "version": "3.11.5"
  },
  "vscode": {
   "interpreter": {
    "hash": "aee8b7b246df8f9039afb4144a1f6fd8d2ca17a180786b69acc140d282b71a49"
   }
  }
 },
 "nbformat": 4,
 "nbformat_minor": 5
}
